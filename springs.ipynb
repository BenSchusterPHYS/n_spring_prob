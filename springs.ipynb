{
 "cells": [
  {
   "cell_type": "code",
   "execution_count": 42,
   "id": "678110e0",
   "metadata": {},
   "outputs": [],
   "source": [
    "\n",
    "import numpy as np\n",
    "import matplotlib.pyplot as plt\n",
    "import matplotlib.animation as animation"
   ]
  },
  {
   "cell_type": "code",
   "execution_count": 53,
   "id": "f2f8b94d",
   "metadata": {},
   "outputs": [
    {
     "name": "stdout",
     "output_type": "stream",
     "text": [
      "[-1, 2]\n",
      "[-1, 2]\n",
      "[0, 2]\n"
     ]
    }
   ],
   "source": [
    "# Spring parameters:\n",
    "num_springs = 3\n",
    "\n",
    "# TODO: Make all for loops one big loop for easier input\n",
    "\n",
    "# num_springs =  input(\"Number of springs to consider?\")\n",
    "\n",
    "# Get Spring Constants:\n",
    "spring_const = [1,1,1]\n",
    "\n",
    "#Left unimplemented for bug fixing sanity\n",
    "#for i in range(num_springs):\n",
    "#    kn = input(r\"Spring constant of spring {i}:\")\n",
    "#    spring_const.append(float(kn))\n",
    "\n",
    "anchor_pts = [[-1,2],[-1,2],[0,2]]\n",
    "#for i in range(num_springs):\n",
    "#    xn = input(r\"x position of spring {i}:\")\n",
    "#    yn = input(r\"y position of spring {i}\")\n",
    "#    anchor_pts.append([float(xn),float(yn)])\n",
    "\n",
    "\n",
    "natural_len = [1,1,1]\n",
    "#for i in range(num_springs):\n",
    "#    Ln = input(r\"Natural length of spring {i}:\")\n",
    "#    natural_len.append(float(Ln))\n",
    "\n",
    "# Bundle parameters into standard list\n",
    "spring_params = []\n",
    "for i in range(num_springs):\n",
    "    temp = []\n",
    "    temp.append(anchor_pts[i])\n",
    "    temp.append(spring_const[i])\n",
    "    temp.append(natural_len[i])\n",
    "    spring_params.append(temp)\n",
    "\n",
    "for i in range(num_springs):\n",
    "    print(spring_params[i][0])"
   ]
  },
  {
   "cell_type": "code",
   "execution_count": 44,
   "id": "e59a7400",
   "metadata": {},
   "outputs": [
    {
     "data": {
      "text/plain": [
       "[-1.5, 1.5]"
      ]
     },
     "execution_count": 44,
     "metadata": {},
     "output_type": "execute_result"
    }
   ],
   "source": [
    "# Mass parameters:\n",
    "m = 1\n",
    "\n",
    "# m = input(r\"Input mass of spring:\")\n",
    "\n",
    "rx0 = -1.5\n",
    "ry0 = 1.5\n",
    "\n",
    "vx0 = 0\n",
    "vy0 = 0\n",
    "\n",
    "# rx0 = input(r\"Input initial x position of spring\")\n",
    "# rx0 = input(r\"Input initial y position of spring\")\n",
    "# vx0 = input(r\"Input initial x velocity of spring\")\n",
    "# vy0 = input(r\"Input initial x velocity of spring\")\n",
    "\n",
    "# Bundle parameters into standard list\n",
    "mass_params = [[float(rx0),float(ry0)],[float(vx0),float(vy0)],m]\n",
    "mass_params[0]"
   ]
  },
  {
   "cell_type": "code",
   "execution_count": 45,
   "id": "6b74ea8d",
   "metadata": {},
   "outputs": [],
   "source": [
    "# Simulation parameters:\n",
    "t0 = 0\n",
    "tf = 10\n",
    "dt = 0.1"
   ]
  },
  {
   "cell_type": "code",
   "execution_count": 46,
   "id": "6f03ff9f",
   "metadata": {},
   "outputs": [],
   "source": [
    "def force(spring_num):\n",
    "    # Get spring stretch from equilibrium \n",
    "    x_stretch = spring_params[spring_num][0][0] - mass_params[0][0]\n",
    "    y_stretch = spring_params[spring_num][0][1] - mass_params[0][1]\n",
    "    stretch = np.sqrt(x_stretch**2+y_stretch**2) - spring_params[spring_num][2]\n",
    "\n",
    "    # Get direction of force\n",
    "    x_dist = mass_params[0][0] - spring_params[spring_num][0][0]\n",
    "    y_dist = mass_params[0][1] - spring_params[spring_num][0][1] \n",
    "    l = np.sqrt(x_dist**2 + y_dist**2)\n",
    "    if l==0:\n",
    "        l = 1e-2\n",
    "    unit_vec = [x_dist / l,y_dist / l]\n",
    "    force_x = -spring_params[spring_num][1] * stretch * unit_vec[0]\n",
    "    force_y = -spring_params[spring_num][1] * stretch * unit_vec[1]\n",
    "    return [force_x,force_y]"
   ]
  },
  {
   "cell_type": "code",
   "execution_count": null,
   "id": "31554a4c",
   "metadata": {},
   "outputs": [],
   "source": []
  },
  {
   "cell_type": "code",
   "execution_count": 47,
   "id": "e9553c4f",
   "metadata": {},
   "outputs": [],
   "source": [
    "def euler():\n",
    "    t = t0\n",
    "    m_pos_x = [mass_params[0][0]]\n",
    "    m_pos_y = [mass_params[0][1]]\n",
    "\n",
    "    while t < tf:\n",
    "        net_force = [0,0]\n",
    "\n",
    "        for spring_num in range(0,num_springs):\n",
    "            temp_force = force(spring_num)\n",
    "            net_x = net_force[0] + temp_force[0]\n",
    "            net_y = net_force[1] + temp_force[1]\n",
    "            net_force = [net_x,net_y]\n",
    "        vnx = net_force[0] * dt / m + mass_params[1][0]\n",
    "        vny = net_force[1] * dt / m + mass_params[1][1]\n",
    "\n",
    "        mass_params[1][0] = vnx\n",
    "        mass_params[1][1] = vny\n",
    "\n",
    "        rnx = vnx * dt + mass_params[0][0]\n",
    "        rny = vny * dt + mass_params[0][1]\n",
    "        mass_params[0][0] = rnx\n",
    "        mass_params[0][1] = rny \n",
    "        \n",
    "        m_pos_x.append(rnx)\n",
    "        m_pos_y.append(rny)\n",
    "        \n",
    "        t += dt\n",
    "\n",
    "    return [m_pos_x, m_pos_y]"
   ]
  },
  {
   "cell_type": "code",
   "execution_count": 54,
   "id": "55e5db78",
   "metadata": {},
   "outputs": [],
   "source": [
    "def animation_dots(method):\n",
    "    points = method()\n",
    "    x = points[0]\n",
    "    y = points[1]\n",
    "\n",
    "    fig, ax = plt.subplots()\n",
    "\n",
    "    dot, = ax.plot(x[0], y[0], 'ko')\n",
    "\n",
    "\n",
    "    for i in range(num_springs):\n",
    "        x_pos = spring_params[i][0][0]\n",
    "        y_pos = spring_params[i][0][1]\n",
    "        ax.plot(x_pos, y_pos, 'ro') \n",
    "\n",
    "    ax.set_xlim(min(x)-0.1, max(x)+0.1)\n",
    "    ax.set_ylim(min(y)-0.1, max(y)+0.1)\n",
    "\n",
    "    def update(num, x, y, dot):\n",
    "        dot.set_data([x[num]], [y[num]])\n",
    "        return dot,\n",
    "\n",
    "\n",
    "    ani = animation.FuncAnimation(fig, update, len(x), interval=100, \n",
    "                              fargs=[x, y, dot], blit=True)\n",
    "\n",
    "    ani.save('animation_drawing.gif', writer='imagemagick', fps=60)\n"
   ]
  },
  {
   "cell_type": "code",
   "execution_count": 51,
   "id": "87d1f764",
   "metadata": {},
   "outputs": [],
   "source": [
    "def animation_line(method):\n",
    "    points = method()\n",
    "    x = points[0]\n",
    "    y = points[1]\n",
    "\n",
    "    fig, ax = plt.subplots()\n",
    "    line, = ax.plot(x, y)\n",
    "\n",
    "    for i in range(num_springs):\n",
    "        x_pos = spring_params[i][0][0]\n",
    "        y_pos = spring_params[i][0][1]\n",
    "        ax.plot(x_pos, y_pos, 'ro') \n",
    "        \n",
    "    def update(num, x, y, line):\n",
    "        line.set_data(x[:num], y[:num])\n",
    "        return line,\n",
    "\n",
    "    ani = animation.FuncAnimation(fig, update, len(x), interval=100, \n",
    "                              fargs=[x, y, line], blit=True)\n",
    "    ani.save('animation_drawing.gif', writer='imagemagick', fps=60)"
   ]
  },
  {
   "cell_type": "code",
   "execution_count": 55,
   "id": "f6af6cbc",
   "metadata": {},
   "outputs": [
    {
     "name": "stderr",
     "output_type": "stream",
     "text": [
      "MovieWriter imagemagick unavailable; using Pillow instead.\n"
     ]
    },
    {
     "data": {
      "image/png": "[encoded data removed]",
      "text/plain": [
       "<Figure size 640x480 with 1 Axes>"
      ]
     },
     "metadata": {},
     "output_type": "display_data"
    }
   ],
   "source": [
    "animation_dots(euler)"
   ]
  },
  {
   "cell_type": "code",
   "execution_count": 52,
   "id": "0ea0448d",
   "metadata": {},
   "outputs": [
    {
     "name": "stderr",
     "output_type": "stream",
     "text": [
      "MovieWriter imagemagick unavailable; using Pillow instead.\n"
     ]
    },
    {
     "data": {
      "image/png": "[encoded data removed]",
      "text/plain": [
       "<Figure size 640x480 with 1 Axes>"
      ]
     },
     "metadata": {},
     "output_type": "display_data"
    }
   ],
   "source": [
    "animation_line(euler)"
   ]
  },
  {
   "cell_type": "code",
   "execution_count": null,
   "id": "fe4ff9d1",
   "metadata": {},
   "outputs": [],
   "source": []
  }
 ],
 "metadata": {
  "kernelspec": {
   "display_name": "Python 3",
   "language": "python",
   "name": "python3"
  },
  "language_info": {
   "codemirror_mode": {
    "name": "ipython",
    "version": 3
   },
   "file_extension": ".py",
   "mimetype": "text/x-python",
   "name": "python",
   "nbconvert_exporter": "python",
   "pygments_lexer": "ipython3",
   "version": "3.13.3"
  }
 },
 "nbformat": 4,
 "nbformat_minor": 5
}
